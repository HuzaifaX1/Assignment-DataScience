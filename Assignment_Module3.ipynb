{
  "nbformat": 4,
  "nbformat_minor": 0,
  "metadata": {
    "colab": {
      "provenance": []
    },
    "kernelspec": {
      "name": "python3",
      "display_name": "Python 3"
    },
    "language_info": {
      "name": "python"
    }
  },
  "cells": [
    {
      "cell_type": "markdown",
      "source": [
        "# Ques 1:- Discuss string slicing and provide examples.\n",
        "\n",
        " Answer:- String slicing is a fundamental operation in python that allows you to extract a portion of string, creating a new string from the selected part. In essence, its a way to access specific characters or substrings within a larger string. This process is often referred to as 'slicing' bcz you are essentially cutting a piece of the string to work with.\n",
        "\n",
        "### How string slicing works in python\n",
        "\n",
        "\n",
        "Example:- let's say the string is my_str1 = \"Hello World\", if you use my_str1[6:12], it will return \"World\"\n",
        "\n",
        "There are two use case in slicing:-\n",
        "\n",
        "1:- my_str1(start, stop)\n",
        "\n",
        "2:- my_str1(start, stop, step)"
      ],
      "metadata": {
        "id": "ATpJhqOhoJh3"
      }
    },
    {
      "cell_type": "code",
      "source": [
        "#use case >> str1(start, stop)\n",
        "my_str1 = \"Hello World\"\n",
        "my_str1[6:12]\n"
      ],
      "metadata": {
        "colab": {
          "base_uri": "https://localhost:8080/",
          "height": 36
        },
        "id": "qPvzGcqtrF_T",
        "outputId": "3793e5eb-ae65-46da-b2fd-b01990a9340a"
      },
      "execution_count": 4,
      "outputs": [
        {
          "output_type": "execute_result",
          "data": {
            "text/plain": [
              "'World'"
            ],
            "application/vnd.google.colaboratory.intrinsic+json": {
              "type": "string"
            }
          },
          "metadata": {},
          "execution_count": 4
        }
      ]
    },
    {
      "cell_type": "code",
      "source": [
        "#use case >> str2(start, stop, step)\n",
        "my_str2 = \"Physics Wallah\"\n",
        "my_str2[0:14:2]"
      ],
      "metadata": {
        "colab": {
          "base_uri": "https://localhost:8080/",
          "height": 36
        },
        "id": "JzzQXBs2rNhF",
        "outputId": "1190188b-56ff-412f-899a-aa1bf111cddd"
      },
      "execution_count": 5,
      "outputs": [
        {
          "output_type": "execute_result",
          "data": {
            "text/plain": [
              "'PyisWla'"
            ],
            "application/vnd.google.colaboratory.intrinsic+json": {
              "type": "string"
            }
          },
          "metadata": {},
          "execution_count": 5
        }
      ]
    },
    {
      "cell_type": "markdown",
      "source": [
        "# Ques 2:- Explain the key features of list in Python\n",
        "\n",
        "Answer:- List are mutbale, versatile and widely used data structire that allow you to store a collection of items. Their items can be added, remove or change  after the list will define. List are ordered so newly added items will be placed at the end of the list. List use zero-based indexing\n",
        "\n",
        "###some key features of lists are:-\n",
        "1. **Mutbale**:- You can modify list after creation. Elements can added, remove or changfed\n",
        "\n",
        "example:- my_list = [1, 2, 3]\n",
        "\n",
        "\n",
        "```\n",
        "my_list[2] = 98\n",
        "my_list\n",
        "[1, 2, 98]\n",
        "```\n",
        "\n",
        "\n",
        "\n",
        "\n",
        "\n",
        "\n"
      ],
      "metadata": {
        "id": "J8dMkZXUs6Nc"
      }
    },
    {
      "cell_type": "markdown",
      "source": [
        "2. **Indexed**:- Elements in a list can be accessed using their index, starting from 0\n",
        "\n",
        "example:-\n",
        "\n",
        "\n"
      ],
      "metadata": {
        "id": "vrwAfGPIwRVb"
      }
    },
    {
      "cell_type": "code",
      "source": [
        "my_list[0]\n"
      ],
      "metadata": {
        "colab": {
          "base_uri": "https://localhost:8080/"
        },
        "id": "15zRyxZ9xREx",
        "outputId": "8f5b0569-fd2a-478f-d5fa-160cacbc609c"
      },
      "execution_count": 11,
      "outputs": [
        {
          "output_type": "execute_result",
          "data": {
            "text/plain": [
              "1"
            ]
          },
          "metadata": {},
          "execution_count": 11
        }
      ]
    },
    {
      "cell_type": "markdown",
      "source": [
        "3. **Allows Duplicate Elements**:- Lists can contain duplicate items"
      ],
      "metadata": {
        "id": "M9iqdpDhxJXf"
      }
    },
    {
      "cell_type": "code",
      "source": [
        "my_list = [10, 20, 30, 30, 40]\n",
        "my_list\n",
        "# it is a valid list with duplicates"
      ],
      "metadata": {
        "colab": {
          "base_uri": "https://localhost:8080/"
        },
        "id": "khDvRys3xiAQ",
        "outputId": "4dc86559-1dad-4646-d2cf-c48a228e7d42"
      },
      "execution_count": 12,
      "outputs": [
        {
          "output_type": "execute_result",
          "data": {
            "text/plain": [
              "[10, 20, 30, 30, 40]"
            ]
          },
          "metadata": {},
          "execution_count": 12
        }
      ]
    },
    {
      "cell_type": "markdown",
      "source": [
        "4. **Heterogeneous Element**:- List can store elementd of different data type\n",
        "\n",
        "example:-\n"
      ],
      "metadata": {
        "id": "qD7Osf92xw6b"
      }
    },
    {
      "cell_type": "code",
      "source": [
        "my_list = [1, 2, \"pwskills\", 3+8j, True]\n",
        "my_list"
      ],
      "metadata": {
        "colab": {
          "base_uri": "https://localhost:8080/"
        },
        "id": "6cZzIcDHxo-9",
        "outputId": "66020ef8-34e5-4869-d83b-f6115a5f209a"
      },
      "execution_count": 13,
      "outputs": [
        {
          "output_type": "execute_result",
          "data": {
            "text/plain": [
              "[1, 2, 'pwskills', (3+8j), True]"
            ]
          },
          "metadata": {},
          "execution_count": 13
        }
      ]
    },
    {
      "cell_type": "markdown",
      "source": [
        "# Ques 3. Describe how to access, modify amd delete elements in a list with example\n",
        "\n",
        "Answer:-\n",
        "**Accessing element**:- You can access elements in a list using their indexs. The index starts from 0 for the first element."
      ],
      "metadata": {
        "id": "UDU4KULNyS8_"
      }
    },
    {
      "cell_type": "code",
      "source": [
        "list1 = [10, 20, 30, 40]\n",
        "first_elem = list1[0]\n",
        "first_elem"
      ],
      "metadata": {
        "colab": {
          "base_uri": "https://localhost:8080/"
        },
        "id": "UgzLeNaMz-yW",
        "outputId": "01f63fd3-a38f-4c05-dd15-8e85fdfdea22"
      },
      "execution_count": 17,
      "outputs": [
        {
          "output_type": "execute_result",
          "data": {
            "text/plain": [
              "10"
            ]
          },
          "metadata": {},
          "execution_count": 17
        }
      ]
    },
    {
      "cell_type": "code",
      "source": [
        "third_elem = list1[2]\n",
        "third_elem"
      ],
      "metadata": {
        "colab": {
          "base_uri": "https://localhost:8080/"
        },
        "id": "B-mwwThQ0Iks",
        "outputId": "201fe346-e740-44b2-d83f-484c69fa3a3a"
      },
      "execution_count": 19,
      "outputs": [
        {
          "output_type": "execute_result",
          "data": {
            "text/plain": [
              "30"
            ]
          },
          "metadata": {},
          "execution_count": 19
        }
      ]
    },
    {
      "cell_type": "markdown",
      "source": [
        "**Modification of element** :- You can modify elements in a list by acccessing a new value to the index of the element"
      ],
      "metadata": {
        "id": "8ZIJVvRm0n5y"
      }
    },
    {
      "cell_type": "code",
      "source": [
        "list1 = [10, 20, 30, 40]\n",
        "list1[1] = 70\n",
        "list1"
      ],
      "metadata": {
        "colab": {
          "base_uri": "https://localhost:8080/"
        },
        "id": "iN6Ll8Ag0gXi",
        "outputId": "39a87cd6-3ee8-4c37-ce6e-13b5bdc8234d"
      },
      "execution_count": 22,
      "outputs": [
        {
          "output_type": "execute_result",
          "data": {
            "text/plain": [
              "[10, 70, 30, 40]"
            ]
          },
          "metadata": {},
          "execution_count": 22
        }
      ]
    },
    {
      "cell_type": "markdown",
      "source": [
        "**Deleting Element**:- There are several method to delete the element\n",
        "\n",
        "a:- use 'del' statement\n",
        "\n",
        "b:- use 'remove()' method\n",
        "\n",
        "c:- use 'pop()' method"
      ],
      "metadata": {
        "id": "NMVAKxV61Nar"
      }
    },
    {
      "cell_type": "code",
      "source": [
        "# del statement\n",
        "list1 = [1, 2, 3, 4, 5]\n",
        "del list1[1]\n",
        "list1"
      ],
      "metadata": {
        "colab": {
          "base_uri": "https://localhost:8080/"
        },
        "id": "_jGdXljw0_2R",
        "outputId": "386c785e-6706-492c-d67c-5d39f94cdd08"
      },
      "execution_count": 24,
      "outputs": [
        {
          "output_type": "execute_result",
          "data": {
            "text/plain": [
              "[1, 3, 4, 5]"
            ]
          },
          "metadata": {},
          "execution_count": 24
        }
      ]
    },
    {
      "cell_type": "code",
      "source": [
        "# remove() method\n",
        "list1 = [1, 2, 3, 4, 5]\n",
        "list1.remove(5)\n",
        "list1"
      ],
      "metadata": {
        "colab": {
          "base_uri": "https://localhost:8080/"
        },
        "id": "d8VrzUiy1zqB",
        "outputId": "64556216-1171-4a79-83bc-fc55cc4aa752"
      },
      "execution_count": 26,
      "outputs": [
        {
          "output_type": "execute_result",
          "data": {
            "text/plain": [
              "[1, 2, 3, 4]"
            ]
          },
          "metadata": {},
          "execution_count": 26
        }
      ]
    },
    {
      "cell_type": "code",
      "source": [
        "# pop() method\n",
        "list1 = [1, 2, 3, 4, 5]\n",
        "list1.pop(3)\n",
        "list1"
      ],
      "metadata": {
        "colab": {
          "base_uri": "https://localhost:8080/"
        },
        "id": "_VdnoROg2AV_",
        "outputId": "a55bf0ea-4913-4b65-d902-ec67eb9bbf0a"
      },
      "execution_count": 27,
      "outputs": [
        {
          "output_type": "execute_result",
          "data": {
            "text/plain": [
              "[1, 2, 3, 5]"
            ]
          },
          "metadata": {},
          "execution_count": 27
        }
      ]
    },
    {
      "cell_type": "code",
      "source": [],
      "metadata": {
        "id": "nH1drBCLfcSm"
      },
      "execution_count": null,
      "outputs": []
    },
    {
      "cell_type": "code",
      "source": [],
      "metadata": {
        "id": "pAjS8OYKgjSS"
      },
      "execution_count": null,
      "outputs": []
    },
    {
      "cell_type": "markdown",
      "source": [
        "# Ques 4:- Compare and contrast tuples and lists with example\n",
        "\n",
        "### List\n",
        "\n",
        "\n",
        "*  Define using square breckets '[]'\n",
        "*  Lists are Mutable (can be changed)\n",
        "*   Supports many method like '.append()', '.remove()', '.pop()'\n",
        "*   Slightly slower due to mutability\n",
        "*   Suitable for collections that may change\n",
        "*   Slightly slower due to overhead of mutability\n",
        "*   Generally uses more memory due to extra functionality\n",
        "*  Elements can be added or removed\n",
        "\n",
        "\n",
        "### Tuples\n",
        "\n",
        "\n",
        "*   Defined using parentheses '()'\n",
        "*   Immutable (cannot be changed after creation)\n",
        "*   Limited methods like 'count()' and 'index()'\n",
        "*   Faster due to immutability\n",
        "*   Suitable for fixed collections of items\n",
        "*   Faster due to optimization for immutability\n",
        "*   Uses less memory compared to lists\n",
        "\n"
      ],
      "metadata": {
        "id": "zGbNjlxx2WC6"
      }
    },
    {
      "cell_type": "code",
      "source": [
        "#Creating a list and tuple\n",
        "#list\n",
        "my_list1 = [1, 2, 3, 4]\n",
        "\n",
        "#tuple\n",
        "my_tup = (1, 2, 3 ,4)\n",
        "\n",
        "#Accessing elem in list\n",
        "print(my_list1[0])\n",
        "\n",
        "#Accessing elem in tuple\n",
        "print(my_tup[0])"
      ],
      "metadata": {
        "colab": {
          "base_uri": "https://localhost:8080/"
        },
        "id": "_GhAA83z2OP3",
        "outputId": "a335853e-8eb9-48bc-c54f-15c7bb3ab2f1"
      },
      "execution_count": 1,
      "outputs": [
        {
          "output_type": "stream",
          "name": "stdout",
          "text": [
            "1\n",
            "1\n"
          ]
        }
      ]
    },
    {
      "cell_type": "markdown",
      "source": [
        "# Ques 5:- Describe the key features of sets and provide examples of their uses\n",
        "\n",
        "Answer:-\n",
        "\n",
        "**Key features of set in python**\n",
        "\n",
        "A set is an unordered collection of unique elements  in Pyhton. Sets are particularly useful when you need to store distinct items and perform operations like union, inserection, and difference. Here are some key features of set.\n",
        "\n",
        "1. **Unordered**\n",
        "-> Set do not maintain the order of elements. The elements are stored in an arbitrary order\n",
        "\n",
        "ex:-"
      ],
      "metadata": {
        "id": "mnXJdR9KiOSN"
      }
    },
    {
      "cell_type": "code",
      "source": [
        "s = {3, 1, 4}\n",
        "s"
      ],
      "metadata": {
        "colab": {
          "base_uri": "https://localhost:8080/"
        },
        "id": "pgBwFgEljzqG",
        "outputId": "3afa2c22-f8e0-48dd-ddc5-72cbcab94849"
      },
      "execution_count": 2,
      "outputs": [
        {
          "output_type": "execute_result",
          "data": {
            "text/plain": [
              "{1, 3, 4}"
            ]
          },
          "metadata": {},
          "execution_count": 2
        }
      ]
    },
    {
      "cell_type": "markdown",
      "source": [
        "2. **Unique Elements**\n",
        "\n",
        "-> A set cannot have duplicate elements. If you try to add a duplicate element, it will be ignored\n",
        "\n",
        "ex:-"
      ],
      "metadata": {
        "id": "vJAEwbtNj8Y3"
      }
    },
    {
      "cell_type": "code",
      "source": [
        "s = {1, 2, 3, 3, 4, 4}\n",
        "s"
      ],
      "metadata": {
        "colab": {
          "base_uri": "https://localhost:8080/"
        },
        "id": "FBidU_z3kSf1",
        "outputId": "9744605d-e235-495c-eee6-92568d969282"
      },
      "execution_count": 4,
      "outputs": [
        {
          "output_type": "execute_result",
          "data": {
            "text/plain": [
              "{1, 2, 3, 4}"
            ]
          },
          "metadata": {},
          "execution_count": 4
        }
      ]
    },
    {
      "cell_type": "markdown",
      "source": [
        "3. **Mutable**\n",
        "\n",
        "-> Since sets are unordered, elements cannot be accessed using an index\n",
        "\n",
        "ex:-\n",
        "<!-- TypeError: 'set' object is not subscriptable -->"
      ],
      "metadata": {
        "id": "SBRNC94YkbFw"
      }
    },
    {
      "cell_type": "code",
      "source": [
        "s = {1, 2, 3, 4, 5, 6}\n",
        "s[0]  #TypeError: 'set' object is not subscriptable"
      ],
      "metadata": {
        "colab": {
          "base_uri": "https://localhost:8080/",
          "height": 163
        },
        "id": "r0yVydusknh4",
        "outputId": "e2055d6b-2a01-425f-80fb-c50606f05df2"
      },
      "execution_count": 5,
      "outputs": [
        {
          "output_type": "error",
          "ename": "TypeError",
          "evalue": "'set' object is not subscriptable",
          "traceback": [
            "\u001b[0;31m---------------------------------------------------------------------------\u001b[0m",
            "\u001b[0;31mTypeError\u001b[0m                                 Traceback (most recent call last)",
            "\u001b[0;32m<ipython-input-5-0bf2eaff546a>\u001b[0m in \u001b[0;36m<cell line: 2>\u001b[0;34m()\u001b[0m\n\u001b[1;32m      1\u001b[0m \u001b[0ms\u001b[0m \u001b[0;34m=\u001b[0m \u001b[0;34m{\u001b[0m\u001b[0;36m1\u001b[0m\u001b[0;34m,\u001b[0m \u001b[0;36m2\u001b[0m\u001b[0;34m,\u001b[0m \u001b[0;36m3\u001b[0m\u001b[0;34m,\u001b[0m \u001b[0;36m4\u001b[0m\u001b[0;34m,\u001b[0m \u001b[0;36m5\u001b[0m\u001b[0;34m,\u001b[0m \u001b[0;36m6\u001b[0m\u001b[0;34m}\u001b[0m\u001b[0;34m\u001b[0m\u001b[0;34m\u001b[0m\u001b[0m\n\u001b[0;32m----> 2\u001b[0;31m \u001b[0ms\u001b[0m\u001b[0;34m[\u001b[0m\u001b[0;36m0\u001b[0m\u001b[0;34m]\u001b[0m\u001b[0;34m\u001b[0m\u001b[0;34m\u001b[0m\u001b[0m\n\u001b[0m",
            "\u001b[0;31mTypeError\u001b[0m: 'set' object is not subscriptable"
          ]
        }
      ]
    },
    {
      "cell_type": "markdown",
      "source": [
        "4. **Hashable Elements**\n",
        "\n",
        "Elements of a set must be hashable, meaning you cannot have mutable types like lists or dictionaries as elements of a set\n",
        "\n",
        "ex:-\n",
        "```\n",
        "{1, 2, (3, 4)} -->> this is valid set, but\n",
        "\n",
        "{1, 2, [3, 4]} -->> this is not valid\n",
        "```"
      ],
      "metadata": {
        "id": "W_ATDBCzk5GT"
      }
    },
    {
      "cell_type": "markdown",
      "source": [
        "# Ques 6:- Discuss the use cases of tuples and sets in python programmng\n",
        "\n",
        "Answer:- Tuples and sets are both fundamental data structures in python, each withh specific use cases thst leverage their uniqeu properties. Below are some common scenarios where tuples and sets are particularly useful\n",
        "\n",
        "**Use cases of Tuples**\n",
        "\n",
        "1. Returning Multiple Values from a Function\n",
        "2. Immutable Data Storage\n",
        "3. Dictionary keys\n",
        "4. Grouping Related Data\n",
        "5. Function Argument unpacking\n",
        "\n",
        "**Use cases of Set**\n",
        "\n",
        "1. Membership testing (checking if an element is present in set)\n",
        "2. Removing duplicates from list\n",
        "3. Performing set operations like union, intersection, difference and symmetric difference.\n",
        "4. Implementing algorithms that involve sets, such as graph traversal or data analysis"
      ],
      "metadata": {
        "id": "SmcNwU_RlrtO"
      }
    },
    {
      "cell_type": "markdown",
      "source": [
        "# Ques 7:- Describe how to add, modify, and delete items in a dictionary with example\n",
        "\n",
        "Answer:-  Dictionaries in python are key-value pairs, where each key is unique and associated with a corresponding value. To add, modify and delete item in a disctionary, you primarily use the several following method\n",
        "\n",
        "**Adding Items**\n",
        "\n",
        "simply assign a valie to new key\n",
        "\n",
        "ex:-"
      ],
      "metadata": {
        "id": "mJTuK3IfqjzI"
      }
    },
    {
      "cell_type": "code",
      "source": [
        "my_dic ={}\n",
        "my_dic[\"key1\"] = \"value1\"\n",
        "my_dic[\"key2\"] = \"value2\"\n",
        "\n",
        "my_dic"
      ],
      "metadata": {
        "colab": {
          "base_uri": "https://localhost:8080/"
        },
        "id": "xg-bUBkPrz8z",
        "outputId": "e555635a-26b4-4b88-a12d-1d43743aec92"
      },
      "execution_count": 8,
      "outputs": [
        {
          "output_type": "execute_result",
          "data": {
            "text/plain": [
              "{'key1': 'value1', 'key2': 'value2'}"
            ]
          },
          "metadata": {},
          "execution_count": 8
        }
      ]
    },
    {
      "cell_type": "markdown",
      "source": [
        "**Modifying items**\n",
        "\n",
        "Assign a new value to an existing key\n",
        "\n",
        "ex:-"
      ],
      "metadata": {
        "id": "GK86OGHosBlm"
      }
    },
    {
      "cell_type": "code",
      "source": [
        "my_dic = {\"key1\" : \"value1\"}\n",
        "my_dic[\"key1\"] = \"new_value2\"\n",
        "\n",
        "my_dic"
      ],
      "metadata": {
        "colab": {
          "base_uri": "https://localhost:8080/"
        },
        "id": "fxp1WR4Wr0wK",
        "outputId": "d0905ba7-7fad-4a45-99d8-5e4cdcf1358a"
      },
      "execution_count": 9,
      "outputs": [
        {
          "output_type": "execute_result",
          "data": {
            "text/plain": [
              "{'key1': 'new_value2'}"
            ]
          },
          "metadata": {},
          "execution_count": 9
        }
      ]
    },
    {
      "cell_type": "markdown",
      "source": [
        "**Deleting items**\n",
        "\n",
        "Using the 'del' keyword to remove a specific key value pair\n",
        "\n",
        "ex:-"
      ],
      "metadata": {
        "id": "w3azfkaHsq3g"
      }
    },
    {
      "cell_type": "code",
      "source": [
        "my_dict = {\"key1\" : \"value1\", \"key2\" : \"value2\"}\n",
        "del my_dict[\"key2\"]\n",
        "\n",
        "my_dict"
      ],
      "metadata": {
        "colab": {
          "base_uri": "https://localhost:8080/"
        },
        "id": "oykk_FI0soah",
        "outputId": "b87e3a64-f083-40ed-d950-dda9ccf477ff"
      },
      "execution_count": 11,
      "outputs": [
        {
          "output_type": "execute_result",
          "data": {
            "text/plain": [
              "{'key1': 'value1'}"
            ]
          },
          "metadata": {},
          "execution_count": 11
        }
      ]
    },
    {
      "cell_type": "markdown",
      "source": [
        "# Ques 8:- Discuss the importance of dictionary keys being immutable and provide example\n",
        "\n",
        "Answer:- **Importance of Immutable Dictionary  keys**\n",
        "\n",
        "In python, dictionary keys must be immutable objects. This means that they cannot be modified after they are created. While this might seem restrictive, its crucial for the efficient and reliable functioning of dictionaries.\n",
        "\n",
        "**Why is immutaility important?**\n",
        "\n",
        "1. Hashing:- Dictionary use hashing to store and retrieve key-value pairs efficiently. A hash function converts the key into a unique numerical value, which is used to determine the  key's location within the dictionary.\n",
        "\n",
        "2. Comparison:- Dictionary use key comparison to determine if two keys are equal. Immutable objects have consistent comparison behavior, ensuring that keys are compared correctly and consistently\n",
        "\n",
        "3. Performance:- Immutable objects can often be cached or reused, improving performance.\n",
        "\n",
        "Example of immutable objects\n",
        "\n",
        ">> Number:- Integer, float and complex numbers are immutable\n",
        "\n",
        "\n",
        ">> Strings:- String are immutable sequences of characters.\n",
        "\n",
        ">> Tuples:- Tuples are immutabke sequence of element.\n",
        "\n",
        ">> Frozen sets:- Frozen sets are immutabke sets"
      ],
      "metadata": {
        "id": "SGddLpEZtSva"
      }
    },
    {
      "cell_type": "code",
      "source": [
        "dict1 = {1: 'apple', (2,3): 'banana', 'mango': 4}\n",
        "dict1[1] = 'grape' # This will work bcz numers and tuples are immutable\n",
        "\n",
        "dict1[[1,2]] = 'pear'  # This will raise an error bcz list are mutable"
      ],
      "metadata": {
        "colab": {
          "base_uri": "https://localhost:8080/"
        },
        "id": "gA-0q8ivV0WH",
        "outputId": "e579bcf2-893d-4f9e-ff2f-3daca18cf435"
      },
      "execution_count": 4,
      "outputs": [
        {
          "output_type": "execute_result",
          "data": {
            "text/plain": [
              "{1: 'grape', (2, 3): 'banana', 'mango': 4}"
            ]
          },
          "metadata": {},
          "execution_count": 4
        }
      ]
    },
    {
      "cell_type": "code",
      "source": [],
      "metadata": {
        "id": "KBtW-xuxWLP5"
      },
      "execution_count": null,
      "outputs": []
    }
  ]
}