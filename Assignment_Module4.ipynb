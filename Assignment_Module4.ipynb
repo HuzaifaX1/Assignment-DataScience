{
  "nbformat": 4,
  "nbformat_minor": 0,
  "metadata": {
    "colab": {
      "provenance": []
    },
    "kernelspec": {
      "name": "python3",
      "display_name": "Python 3"
    },
    "language_info": {
      "name": "python"
    }
  },
  "cells": [
    {
      "cell_type": "markdown",
      "source": [
        "# **Theory Question**\n"
      ],
      "metadata": {
        "id": "dW_Y7J8TFSBT"
      }
    },
    {
      "cell_type": "markdown",
      "source": [
        "### Ques 1 What is the difference between a function and a method in Python\n",
        "\n",
        "Answer:- In python, both functions and method are blocks of code designed to perform specific tasks, but there are some key differences between them:\n",
        "\n",
        "**Function:** A function is a standalone block of code that performs a specific task. It is defined using the def keyword and can be called independently."
      ],
      "metadata": {
        "id": "YnxwIua5FZqj"
      }
    },
    {
      "cell_type": "code",
      "execution_count": 1,
      "metadata": {
        "colab": {
          "base_uri": "https://localhost:8080/"
        },
        "id": "tMOAqzsWEmBW",
        "outputId": "8bb0f8d4-ebb5-465c-b5dd-971bc65b72a6"
      },
      "outputs": [
        {
          "output_type": "stream",
          "name": "stdout",
          "text": [
            "Hello, Huzaifa\n"
          ]
        }
      ],
      "source": [
        "#example of function\n",
        "def greet(name):\n",
        "  return f\"Hello, {name}\"\n",
        "print(greet(\"Huzaifa\"))"
      ]
    },
    {
      "cell_type": "markdown",
      "source": [
        "**Method:** A method is similar to a function but is defined within a class and is caleed on an instance of that class. it impicitly takes the instance (usually referred as self ) as it first arguement."
      ],
      "metadata": {
        "id": "iL88ZViLJqwj"
      }
    },
    {
      "cell_type": "code",
      "source": [
        "# example of method\n",
        "class greet:\n",
        "  def __init__(self, name):\n",
        "    self.name = name\n",
        "\n",
        "  def greet(self):\n",
        "    return f\"Hello, {self.name}\"\n",
        "\n",
        "greeter = greet(\"Huzaifa\")\n",
        "print(greeter.greet())"
      ],
      "metadata": {
        "colab": {
          "base_uri": "https://localhost:8080/"
        },
        "id": "6R2YeVCRJo8O",
        "outputId": "b9a88947-045d-4efa-9a54-c6e4a5738596"
      },
      "execution_count": 2,
      "outputs": [
        {
          "output_type": "stream",
          "name": "stdout",
          "text": [
            "Hello, Huzaifa\n"
          ]
        }
      ]
    },
    {
      "cell_type": "markdown",
      "source": [
        "##Ques 2:- Explain the concept of function arguments and parameter in Python.\n",
        "\n",
        "Answer:- **Parameter**:- A parameter is a variable in the declaration of the function. It acts as a placeholder for the value that waill be passed into function\n",
        "\n",
        "example:- In the function definition def add(a,b): a and b are parameter"
      ],
      "metadata": {
        "id": "VSYU2RT8LJej"
      }
    },
    {
      "cell_type": "code",
      "source": [
        "#example of parameter>> function definition with parameter a and b\n",
        "def add(a,b):\n",
        "  return a + b"
      ],
      "metadata": {
        "id": "VxfQF2OlMMBS"
      },
      "execution_count": 3,
      "outputs": []
    },
    {
      "cell_type": "markdown",
      "source": [
        "**Argument**:- An argument is the actual value that is passed to the function when it is callled. Arguments are the data you pass into the parameters when calling the funciton.\n",
        "\n",
        "example:- In the function call add(5, 9) and 3 are arguments."
      ],
      "metadata": {
        "id": "7Tdc9MfmNWDm"
      }
    },
    {
      "cell_type": "code",
      "source": [
        "#Fucntion calling with arguments 5 and 9\n",
        "result = add(5, 9)\n",
        "print(result)"
      ],
      "metadata": {
        "colab": {
          "base_uri": "https://localhost:8080/"
        },
        "id": "9odlEKFaMrHu",
        "outputId": "47703aeb-201b-4d23-f1ea-42538ea0ae98"
      },
      "execution_count": 4,
      "outputs": [
        {
          "output_type": "stream",
          "name": "stdout",
          "text": [
            "14\n"
          ]
        }
      ]
    },
    {
      "cell_type": "markdown",
      "source": [
        "##Ques 3:- What are the different way to define and call a function in Python?\n",
        "\n",
        "Answer:- There are several way in python to define and call a function, here are some common method.\n",
        "\n",
        "1. Regular function definition and call\n",
        "\n",
        "```\n",
        " def greet(name):\n",
        "    return f\"Hello, {name}\"\n",
        "\n",
        "print(greet(\"Huzaifa\")\n",
        "```\n",
        "2. Function with Default Arguments\n",
        "\n",
        "```\n",
        "def greet(name = \"World\"):\n",
        "    return f\"Hello, {name}\"\n",
        "\n",
        "print(greet())\n",
        "print(greet(\"Huzaifa\"))\n",
        "```\n",
        "3. Function with Variable-Length Arguments( *args and **kwargs)\n",
        "\n",
        "```\n",
        "def greet(*args, **kwargs):\n",
        "    return f\"Hello, {' and '. join(args)}\" if args else f\"Hello, {kwargs.get('name', 'World')}\"\n",
        "\n",
        "print(greet(\"Huzaifa\", \"Ansari\"))\n",
        "print(greet(name= \"Mohd\"))\n",
        "print(greet())\n",
        "```\n",
        "4. Lambda Function (Anonymous Function)\n",
        "```\n",
        "add = lambda x, y: x+y\n",
        "print(add(5,3))\n",
        "```\n",
        "5. Nested Funciton\n",
        "```\n",
        "def outer_function(text):\n",
        "    def inner_function():\n",
        "        print(text)\n",
        "    inner_function()\n",
        "\n"
      ],
      "metadata": {
        "id": "290Bx58SP9dp"
      }
    },
    {
      "cell_type": "markdown",
      "source": [
        "## Ques 4:- What is the purpose of the 'return' statement in a python function?\n",
        "\n",
        "**Answer**:- The return statement in a python function is used to exit the funciton and pass back a value to the caller.\n",
        "\n",
        "1. **End the Function Execution:-** When the return statement is encountered, the funciton terminate, even if there are remaining lines of code after it. These lines will not be executed.\n",
        "\n",
        "2. **Return a Value to the caller:-** It allows the function to pass back result to part of the code that called the function. For example, a function peforming a calclation can return the computed value for further use.\n",
        "\n",
        "```\n",
        "def add(a, b):\n",
        "    return a+b\n",
        "\n",
        "result = add(5, 3)\n",
        "```\n"
      ],
      "metadata": {
        "id": "f5i1-5xw7zA0"
      }
    },
    {
      "cell_type": "markdown",
      "source": [
        "##Ques 5:- What are iterators in Python and how do they differ form  iterables?\n",
        "\n",
        "1. **Iterable**:- An iterable is any Python object that can be looped over (i.e., you can iterate over it). Examples of iterables include lists, tuples, dictionaries, sets, and strings.\n",
        "\n",
        "a: An iterable has the special method __iter__() that allows it to return an iterator.\n",
        "\n",
        "b: You can use a for  loop to go through an iterable.\n",
        "\n",
        "```\n",
        "\n",
        "l1 = [1, 2, 3]\n",
        "for item in l1:\n",
        "    print(item)\n",
        "```\n",
        "2. **Iterator:-** An iterator is an object that represents a stream of data. It provides a way to access elements of an iterable one at a time without loading them all into memory at once.\n",
        "\n",
        "a: __iter__() >> Returns the iterator object itself, so that it can be iterated over in loop.\n",
        "\n",
        "b: __next__() >> Returns the next element from the iterator. If there are no more elements, it raises the StopIteration exception.\n",
        "\n",
        "Example of an iterator:-\n",
        "```\n",
        "my_lst = [1, 2, 3]\n",
        "my_iter = iter(my_lst)\n",
        "\n",
        "print(next(my_iter))\n",
        "print(next(my_iter))\n",
        "print(next(my_iter))\n",
        "```"
      ],
      "metadata": {
        "id": "ff4PQvoMAkQk"
      }
    },
    {
      "cell_type": "markdown",
      "source": [
        "##Ques 6:- Explain the concept of generators in Python and how they are defined.\n",
        "\n",
        "Answer:- Generators are a special type of function in Python that return an iterator, which can be used to iterate over a sequence of values. Unlike regular functions that return a single value, generators yield values one at a time, allowing for efficient memory usage and lazy evaluation.\n",
        "\n",
        "Defining the generators:\n",
        "\n",
        "1. Use the yield keyword: Instead of using return to return a value, generators use yield to return a value and temporarily pause execution. When the generator is resumed, it continues from where it left off.\n",
        "\n",
        "2. Create a generator function: Define a function with the def keyword and include the yield keyword within the function body.\n",
        "\n",
        "```\n",
        "def my_generator():\n",
        "    for i in range(5):\n",
        "      yield i\n",
        "    \n",
        "for num in my_generator():\n",
        "    print(num)\n",
        "\n",
        "```"
      ],
      "metadata": {
        "id": "Xj1hFaNXMQer"
      }
    },
    {
      "cell_type": "markdown",
      "source": [
        "##Ques 7:- What are the advantages of using generators over regular functions?\n",
        "\n",
        "Answer:- There are several advantages of generators over regular function.\n",
        "\n",
        "1. Memory Efficiency: Generators produce values on-the-fly, meaning they don't store the entire sequence in memory at once. This is especially beneficial when dealing with large datasets or infinite sequences.\n",
        "\n",
        "2. Lazy Evaluation: Generators only evaluate the next value when it's requested, avoiding unnecessary computations. This can lead to significant performance improvements, especially in scenarios where not all values are needed.\n",
        "\n",
        "3. Simpler Code: Generators often result in cleaner and more concise code, especially for tasks involving iteration and sequence generation.\n",
        "\n",
        "4. Infinite Sequences: Generators can be used to create infinite sequences, such as Fibonacci numbers or prime numbers, which would be impractical with regular functions due to memory limitations.\n",
        "\n",
        "5. Pipeline Processing: Generators can be used to create pipelines of data processing steps, where the output of one generator is used as the input for the next. This can be a powerful technique for data analysis and transformation.\n"
      ],
      "metadata": {
        "id": "qVBJ8KSpNYwS"
      }
    },
    {
      "cell_type": "code",
      "source": [
        "#example:-\n",
        "\n",
        "def fibonacci_generator():\n",
        "  a, b = 0, 1\n",
        "  while True:\n",
        "    yield a\n",
        "    a, b = b, a + b\n",
        "\n",
        "fib_gen = fibonacci_generator()\n",
        "\n",
        "for i in range(10):\n",
        "  print(next(fib_gen))"
      ],
      "metadata": {
        "colab": {
          "base_uri": "https://localhost:8080/"
        },
        "id": "6YgPpdhjN8ad",
        "outputId": "13aa1725-9b8f-4e75-807d-ed565f704dfa"
      },
      "execution_count": 1,
      "outputs": [
        {
          "output_type": "stream",
          "name": "stdout",
          "text": [
            "0\n",
            "1\n",
            "1\n",
            "2\n",
            "3\n",
            "5\n",
            "8\n",
            "13\n",
            "21\n",
            "34\n"
          ]
        }
      ]
    },
    {
      "cell_type": "markdown",
      "source": [
        "##Ques 8:- What is a lambda function in python and when is it typically used?\n",
        "\n",
        "Answer:- A lambda function is a small, anonymous function defined using the  lambda keyword. It's often used for short, simple functions that are only needed once. Unlike regular functions, lambda functions don't have a name and are typically used within other expressions.\n",
        "\n",
        "syntax:- lambda argument: expression"
      ],
      "metadata": {
        "id": "H6B-k5kcOveg"
      }
    },
    {
      "cell_type": "code",
      "source": [
        "# Example\n",
        "\n",
        "add = lambda x, y: x+y\n",
        "result = add(3, 4)\n",
        "print(result)"
      ],
      "metadata": {
        "colab": {
          "base_uri": "https://localhost:8080/"
        },
        "id": "LYXmfy11OsT5",
        "outputId": "69f7d8ea-21af-470a-b449-164fadc3c58d"
      },
      "execution_count": 2,
      "outputs": [
        {
          "output_type": "stream",
          "name": "stdout",
          "text": [
            "7\n"
          ]
        }
      ]
    },
    {
      "cell_type": "markdown",
      "source": [
        "**Typically use cases**\n",
        "\n",
        "1. Function Arguement\n",
        "2. Short, one-time fucntion\n",
        "3. List comprehension and generator expression"
      ],
      "metadata": {
        "id": "szgMxKA4PrJQ"
      }
    },
    {
      "cell_type": "code",
      "source": [
        "#example by using map()\n",
        "\n",
        "num = [1, 2, 3, 4 ,5]\n",
        "square_num = list(map(lambda x: x**2, num))\n",
        "print(square_num)\n"
      ],
      "metadata": {
        "colab": {
          "base_uri": "https://localhost:8080/"
        },
        "id": "nw-wY9kzPpNl",
        "outputId": "1e492c29-1f6c-4255-c48b-f52efc1fd267"
      },
      "execution_count": 3,
      "outputs": [
        {
          "output_type": "stream",
          "name": "stdout",
          "text": [
            "[1, 4, 9, 16, 25]\n"
          ]
        }
      ]
    },
    {
      "cell_type": "markdown",
      "source": [
        "##Ques 9:- Explain the purpose and usage of the map() function in python.\n",
        "\n",
        "Answer:- The map() function in Python is a built-in function that applies a given function to each item of an iterable (like., list, tuple, set, dictionary). It returns a new iterable (often a list or iterator) containing the results of the function applied to each item.\n",
        "\n",
        "Purpose:\n",
        "\n",
        "To apply a function to each element of an iterable efficiently.\n",
        "\n",
        "To transform elements of an iterable into a new format.\n",
        "\n",
        "To create new sequences based on existing ones.\n",
        "\n",
        "Uses:\n",
        "\n",
        "map(function, iterable)\n",
        ">>Function:- The funciton to be applied to each element.\n",
        "\n",
        ">>Iterable:- The iterable containing the elements.\n",
        "\n"
      ],
      "metadata": {
        "id": "-S4mTX6yQsQa"
      }
    },
    {
      "cell_type": "code",
      "source": [
        "num = [1, 2, 3, 4, 5]\n",
        "\n",
        "sq_num = list(map(lambda x: x**2, num))\n",
        "print(sq_num)\n",
        "\n",
        "string_num = list(map(str, num))\n",
        "print(string_num)"
      ],
      "metadata": {
        "colab": {
          "base_uri": "https://localhost:8080/"
        },
        "id": "T0lIZZ8UQpbk",
        "outputId": "6e050af2-ad85-45a5-f514-6eb2028feafd"
      },
      "execution_count": 4,
      "outputs": [
        {
          "output_type": "stream",
          "name": "stdout",
          "text": [
            "[1, 4, 9, 16, 25]\n",
            "['1', '2', '3', '4', '5']\n"
          ]
        }
      ]
    },
    {
      "cell_type": "markdown",
      "source": [
        "##Ques 10:- What is the difference between map(), reduce(), and filter() functions in python?\n",
        "\n",
        "Answer:-\n",
        "1. **map()**\n",
        "\n",
        ">>Purpose: Applies a given function to each item of an iterable (e.g., list, tuple) and returns a map object (which is an iterator).\n",
        "\n",
        ">>Use case: When you need to apply a transformation or operation to each element of a collection.\n"
      ],
      "metadata": {
        "id": "w3If7z2ETAjN"
      }
    },
    {
      "cell_type": "code",
      "source": [
        "num = [1, 2, 3, 4, 5]\n",
        "double = list(map(lambda x: x*2, num))\n",
        "print(double)"
      ],
      "metadata": {
        "colab": {
          "base_uri": "https://localhost:8080/"
        },
        "id": "YwfXKznIS6xi",
        "outputId": "a78ed7fe-9bb7-4a3e-9893-32620976dbd8"
      },
      "execution_count": 5,
      "outputs": [
        {
          "output_type": "stream",
          "name": "stdout",
          "text": [
            "[2, 4, 6, 8, 10]\n"
          ]
        }
      ]
    },
    {
      "cell_type": "markdown",
      "source": [
        "2. **filter()**\n",
        "\n",
        ">>Purpose: Filters elements from an iterable based on a function that returns either True or False. It returns a filter object (which is an iterator).\n",
        "\n",
        ">>Use case: When you want to extract elements from a collection that meet a certain condition."
      ],
      "metadata": {
        "id": "zybHMXyCWOXu"
      }
    },
    {
      "cell_type": "markdown",
      "source": [
        "3. reduce()\n",
        "\n",
        ">>Purpose: Reduces a collection to a single value by applying a binary function (one that takes two arguments) cumulatively to the elements of the iterable.\n",
        "\n",
        ">>Use case: When you want to combine all elements of a collection into a single result (e.g., summing or multiplying all elements). reduce() is part of the functools module in Python 3, so you need to import it."
      ],
      "metadata": {
        "id": "9QQZ5hloXBEO"
      }
    },
    {
      "cell_type": "code",
      "source": [
        "from functools import reduce\n",
        "num = [1, 2, 3, 4, 5]\n",
        "total = reduce(lambda x, y: x+y, num)\n",
        "print(total)"
      ],
      "metadata": {
        "colab": {
          "base_uri": "https://localhost:8080/"
        },
        "id": "cBNUpBvGWEph",
        "outputId": "3aeaa01e-b866-4351-a0ca-1656bc9d2cbd"
      },
      "execution_count": 6,
      "outputs": [
        {
          "output_type": "stream",
          "name": "stdout",
          "text": [
            "15\n"
          ]
        }
      ]
    },
    {
      "cell_type": "markdown",
      "source": [
        "##Ques 11:- Using pen and paper write the internal mechanism for sum operation using reduce function on this given list = [47,11,42,13];\n",
        "\n",
        "Answer:-\n",
        "\n",
        "Google Drive Folder link:-\n",
        "https://drive.google.com/file/d/1WzT8wlEJGfKT3L6L-WGh211WSGhvbDey/view?usp=drive_link"
      ],
      "metadata": {
        "id": "ZFMsWyVXHu1e"
      }
    },
    {
      "cell_type": "code",
      "source": [],
      "metadata": {
        "id": "QieTwQpEXpZ9"
      },
      "execution_count": null,
      "outputs": []
    },
    {
      "cell_type": "markdown",
      "source": [
        "#   **Practicle**"
      ],
      "metadata": {
        "id": "9bnSWcYDsHpb"
      }
    },
    {
      "cell_type": "markdown",
      "source": [
        "##Ques 1:- Write a Python function that takes a list of numbers as input and returns the sum of all numbers in the list.\n"
      ],
      "metadata": {
        "id": "4WmAq0a3sqJX"
      }
    },
    {
      "cell_type": "code",
      "source": [
        "def sum_of_num(num):\n",
        "  total = 0\n",
        "  for num in num:\n",
        "    total += num\n",
        "  return total\n",
        "num = [1, 2, 3, 4, 5]\n",
        "result = sum_of_num(num)\n",
        "print(result)"
      ],
      "metadata": {
        "colab": {
          "base_uri": "https://localhost:8080/"
        },
        "id": "Qgo4inwIsM96",
        "outputId": "fc1d3691-2cee-4da6-9115-31b054139012"
      },
      "execution_count": 7,
      "outputs": [
        {
          "output_type": "stream",
          "name": "stdout",
          "text": [
            "15\n"
          ]
        }
      ]
    },
    {
      "cell_type": "markdown",
      "source": [
        "##Ques 2:- Create a python function that accepts a string and returns the reverse of that string.\n",
        "\n",
        "Answer:-"
      ],
      "metadata": {
        "id": "EpwUzSVFuF0H"
      }
    },
    {
      "cell_type": "code",
      "source": [
        "def reverse_str(string):\n",
        "  return string[::-1]\n",
        "print(reverse_str(\"Huzaifa The Data Scientist\"))"
      ],
      "metadata": {
        "colab": {
          "base_uri": "https://localhost:8080/"
        },
        "id": "ViZ0g9I2tw26",
        "outputId": "d40e8c19-2cfd-487a-e40f-52cf2e592650"
      },
      "execution_count": 5,
      "outputs": [
        {
          "output_type": "stream",
          "name": "stdout",
          "text": [
            "tsitneicS ataD ehT afiazuH\n"
          ]
        }
      ]
    },
    {
      "cell_type": "markdown",
      "source": [
        "##Ques 3:- Implement a python function that takes a list of integers and returns a new list containing the squares of each number."
      ],
      "metadata": {
        "id": "HPIzMLFjvS7G"
      }
    },
    {
      "cell_type": "code",
      "source": [
        "def square_num(n):\n",
        "  sqr = []\n",
        "  for i in n:\n",
        "    sqr.append(i ** 2)\n",
        "  return sqr\n",
        "n=[1,2,3,4,5]\n",
        "sqr = square_num(n)\n",
        "print(sqr)"
      ],
      "metadata": {
        "colab": {
          "base_uri": "https://localhost:8080/"
        },
        "id": "ZtR-mGY8u9EB",
        "outputId": "dff55c8d-fc34-4a49-9056-2bd4621dcbcf"
      },
      "execution_count": 16,
      "outputs": [
        {
          "output_type": "stream",
          "name": "stdout",
          "text": [
            "[1, 4, 9, 16, 25]\n"
          ]
        }
      ]
    },
    {
      "cell_type": "markdown",
      "source": [
        "##Ques 4:- Write a python function that checks if a given number is prime or not from 1 to 200"
      ],
      "metadata": {
        "id": "QYhcVltj7DZC"
      }
    },
    {
      "cell_type": "code",
      "source": [
        "def is_prime(num):\n",
        "  if num <= 1:\n",
        "    return False\n",
        "  if num <= 3:\n",
        "    return True\n",
        "  if num % 2 == 0 or num % 3 == 0:\n",
        "    return False\n",
        "\n",
        "  i = 5\n",
        "  while i * i <= num:\n",
        "    if num % i == 0 or num % (i + 2) == 0:\n",
        "      return False\n",
        "    i += 6\n",
        "  return True\n",
        "\n",
        "for num in range(1, 201):\n",
        "  if is_prime(num):\n",
        "    print(num, \"is prime\")"
      ],
      "metadata": {
        "colab": {
          "base_uri": "https://localhost:8080/"
        },
        "id": "FOAlKxAlvCU9",
        "outputId": "76d139ad-3640-4a4c-ff2c-b65d69dd3b40"
      },
      "execution_count": 32,
      "outputs": [
        {
          "output_type": "stream",
          "name": "stdout",
          "text": [
            "2 is prime\n",
            "3 is prime\n",
            "5 is prime\n",
            "7 is prime\n",
            "11 is prime\n",
            "13 is prime\n",
            "17 is prime\n",
            "19 is prime\n",
            "23 is prime\n",
            "29 is prime\n",
            "31 is prime\n",
            "37 is prime\n",
            "41 is prime\n",
            "43 is prime\n",
            "47 is prime\n",
            "53 is prime\n",
            "59 is prime\n",
            "61 is prime\n",
            "67 is prime\n",
            "71 is prime\n",
            "73 is prime\n",
            "79 is prime\n",
            "83 is prime\n",
            "89 is prime\n",
            "97 is prime\n",
            "101 is prime\n",
            "103 is prime\n",
            "107 is prime\n",
            "109 is prime\n",
            "113 is prime\n",
            "127 is prime\n",
            "131 is prime\n",
            "137 is prime\n",
            "139 is prime\n",
            "149 is prime\n",
            "151 is prime\n",
            "157 is prime\n",
            "163 is prime\n",
            "167 is prime\n",
            "173 is prime\n",
            "179 is prime\n",
            "181 is prime\n",
            "191 is prime\n",
            "193 is prime\n",
            "197 is prime\n",
            "199 is prime\n"
          ]
        }
      ]
    },
    {
      "cell_type": "markdown",
      "source": [
        "##Ques 5:- Create an iterator class in pyhton that generate the fibonacci sequence up to a specified number of terms."
      ],
      "metadata": {
        "id": "6OSQ3Blx9WAN"
      }
    },
    {
      "cell_type": "code",
      "source": [
        "class FibonacciIterator:\n",
        "    def __init__(self, num_terms):\n",
        "        self.num_terms = num_terms\n",
        "        self.current_term = 0\n",
        "        self.a, self.b = 0, 1\n",
        "\n",
        "    def __iter__(self):\n",
        "        return self\n",
        "\n",
        "    def __next__(self):\n",
        "        if self.current_term < self.num_terms:\n",
        "            fib_num = self.a\n",
        "            self.a, self.b = self.b, self.a + self.b\n",
        "            self.current_term += 1\n",
        "            return fib_num\n",
        "        else:\n",
        "            raise StopIteration\n",
        "\n",
        "fib_iter = FibonacciIterator(10)\n",
        "for num in fib_iter:\n",
        "    print(num)"
      ],
      "metadata": {
        "colab": {
          "base_uri": "https://localhost:8080/"
        },
        "id": "5mPRLJdu8f17",
        "outputId": "6f74505a-c7ff-465a-fd8e-16c8746fd270"
      },
      "execution_count": 33,
      "outputs": [
        {
          "output_type": "stream",
          "name": "stdout",
          "text": [
            "0\n",
            "1\n",
            "1\n",
            "2\n",
            "3\n",
            "5\n",
            "8\n",
            "13\n",
            "21\n",
            "34\n"
          ]
        }
      ]
    },
    {
      "cell_type": "markdown",
      "source": [
        "##Ques 6:- Write a generator function in python that yields the powers of 2 up to a given exponent."
      ],
      "metadata": {
        "id": "VifzP5Mf_P4A"
      }
    },
    {
      "cell_type": "code",
      "source": [
        "def powers_of_two(exponent):\n",
        "    for i in range(exponent + 1):\n",
        "        yield 2 ** i\n",
        "for power in powers_of_two(5):\n",
        "    print(power)"
      ],
      "metadata": {
        "colab": {
          "base_uri": "https://localhost:8080/"
        },
        "id": "hg9V2M5H9n9W",
        "outputId": "166a51e4-6dd3-4ff2-e2dd-85eb15f2794b"
      },
      "execution_count": 36,
      "outputs": [
        {
          "output_type": "stream",
          "name": "stdout",
          "text": [
            "1\n",
            "2\n",
            "4\n",
            "8\n",
            "16\n",
            "32\n"
          ]
        }
      ]
    },
    {
      "cell_type": "markdown",
      "source": [
        "##Ques 7:- Implement a generator function that reads a file line by line and yield each line as a string"
      ],
      "metadata": {
        "id": "y_dbSAqQ_yA7"
      }
    },
    {
      "cell_type": "code",
      "source": [
        "def read_file_line_by_line(file_path):\n",
        "  try:\n",
        "    with open(file_path, 'r') as file:\n",
        "      for line in file:\n",
        "            yield line.strip()\n",
        "  except FileNotFoundError:\n",
        "    print(f\"File not found: {file_path}\")\n",
        "\n",
        "for line in read_file_line_by_line(\"File.ipynb\"):\n",
        "  print(line)"
      ],
      "metadata": {
        "colab": {
          "base_uri": "https://localhost:8080/"
        },
        "id": "yuyx-O88_lCy",
        "outputId": "36ad0847-18d1-4fa3-ec33-fa1f969c9e8d"
      },
      "execution_count": 6,
      "outputs": [
        {
          "output_type": "stream",
          "name": "stdout",
          "text": [
            "File not found: File.ipynb\n"
          ]
        }
      ]
    },
    {
      "cell_type": "markdown",
      "source": [
        "##Ques 8:- Use a lambda function in python to sort a list of tuples based on the second element of each tuple."
      ],
      "metadata": {
        "id": "IsAKkAhs6v4-"
      }
    },
    {
      "cell_type": "code",
      "source": [
        "tuple_list = [(5,3), (4,2), (8,5), (6,1), (7,4)]\n",
        "\n",
        "sorted_list = sorted(tuple_list, key = lambda x: x[1])\n",
        "print(sorted_list)"
      ],
      "metadata": {
        "colab": {
          "base_uri": "https://localhost:8080/"
        },
        "id": "myuWco8uAHm5",
        "outputId": "1042a4d3-335f-4055-f6c5-9285652cbabf"
      },
      "execution_count": 10,
      "outputs": [
        {
          "output_type": "stream",
          "name": "stdout",
          "text": [
            "[(6, 1), (4, 2), (5, 3), (7, 4), (8, 5)]\n"
          ]
        }
      ]
    },
    {
      "cell_type": "markdown",
      "source": [
        "##Ques 9:- Write a python program that uses map() to covert a list of temperatures from celsius to fahrenheit"
      ],
      "metadata": {
        "id": "RhSARmdY9Mmt"
      }
    },
    {
      "cell_type": "code",
      "source": [
        "def celsius_to_fahrenheit(celsius):\n",
        "  return (celsius * 9/5) + 32\n",
        "\n",
        "l_celsius = [10, 30, 40, 43]\n",
        "conver_fah= list(map(celsius_to_fahrenheit, l_celsius))\n",
        "\n",
        "print(\"Temp in celsius:- \", l_celsius)\n",
        "print(\"Converted into Fahrenheit:- \", conver_fah)"
      ],
      "metadata": {
        "colab": {
          "base_uri": "https://localhost:8080/"
        },
        "id": "Uck8k3017287",
        "outputId": "980ef528-a70c-4312-9afa-bcf519dce27a"
      },
      "execution_count": 11,
      "outputs": [
        {
          "output_type": "stream",
          "name": "stdout",
          "text": [
            "Temp in celsius:-  [10, 30, 40, 43]\n",
            "Converted into Fahrenheit:-  [50.0, 86.0, 104.0, 109.4]\n"
          ]
        }
      ]
    },
    {
      "cell_type": "markdown",
      "source": [
        "##Ques 10:- Create a Python program that uses filter() to remove all the vowels from a given string."
      ],
      "metadata": {
        "id": "JnV6OKYECKGc"
      }
    },
    {
      "cell_type": "code",
      "source": [
        "def remove_vowels(input_string):\n",
        "\n",
        "    vowels = \"aeiouAEIOU\"\n",
        "    result = ''.join(filter(lambda x: x not in vowels, input_string))\n",
        "    return result\n",
        "\n",
        "input_string = \"Hello, how are you today?\"\n",
        "no_vowels_string = remove_vowels(input_string)\n",
        "print(no_vowels_string)"
      ],
      "metadata": {
        "colab": {
          "base_uri": "https://localhost:8080/"
        },
        "id": "bn2EPwceDS8K",
        "outputId": "ea955820-d87a-4f85-a4d1-957e17157000"
      },
      "execution_count": 12,
      "outputs": [
        {
          "output_type": "stream",
          "name": "stdout",
          "text": [
            "Hll, hw r y tdy?\n"
          ]
        }
      ]
    },
    {
      "cell_type": "markdown",
      "source": [
        "##Ques 11:- WAP in python, which returns a list with 2-tuples. Each tuple consists of the order number and the product of the price per item and the quantity. The product should be increased by 10, -€ if the value of the order is smaller than 100,00 €. (write a python program using lambda and map)\n",
        "\n",
        "\n",
        "\n"
      ],
      "metadata": {
        "id": "jOyjPFWyDntM"
      }
    },
    {
      "cell_type": "code",
      "source": [
        "orders = [\n",
        "    [34587, \"Learning Python\", \"Mark Lutz\", 4, 40.95],\n",
        "    [98762, \"Programming Python\", \"Mark Lutz\", 5, 56.80],\n",
        "    [77226, \"Head First python\", \"Paul Barry\", 3, 32.95],\n",
        "    [88112, \"Einfuhrung in Python3\", \"Bernd Klein\", 3, 24.99]\n",
        "]\n",
        "\n",
        "result = list(map(lambda x: (x[0], x[3] * x[4] + (10 if x[3] * x[4] >= 100 else 0)), orders))\n",
        "print(result)"
      ],
      "metadata": {
        "colab": {
          "base_uri": "https://localhost:8080/"
        },
        "id": "Lh01UzueDhn3",
        "outputId": "17ad9f80-fe63-4956-f2c3-a60d949b281f"
      },
      "execution_count": 13,
      "outputs": [
        {
          "output_type": "stream",
          "name": "stdout",
          "text": [
            "[(34587, 173.8), (98762, 294.0), (77226, 98.85000000000001), (88112, 74.97)]\n"
          ]
        }
      ]
    }
  ]
}