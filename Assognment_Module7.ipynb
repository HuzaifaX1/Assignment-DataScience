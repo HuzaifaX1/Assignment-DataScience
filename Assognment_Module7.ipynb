{
  "nbformat": 4,
  "nbformat_minor": 0,
  "metadata": {
    "colab": {
      "provenance": []
    },
    "kernelspec": {
      "name": "python3",
      "display_name": "Python 3"
    },
    "language_info": {
      "name": "python"
    }
  },
  "cells": [
    {
      "cell_type": "markdown",
      "source": [
        "###Ques 1 :- Discuss the scenarios where multithreading is preferable to multiprocessing and scenarios where multiprocessing is a better choice.\n",
        "\n",
        "**Answer:-** **I/O-Bound Tasks:**\n",
        "\n",
        "Applications that spend a specific amount of time wait for I/O operation benefit from multithreading. While one thread is waiting for I/O, others can continue executing.\n",
        "\n",
        "**Shared Memory:**\n",
        "\n",
        "Thread share their same memory space, it advantage for application which require recent data to share or communicate, as it avoids the overhead associated with inter-process communication.\n",
        "\n",
        "**Lightweight Context Switching:**\n",
        "\n",
        "Threads are lighter than processes, allows to quick context switch. It is beneficial for applications that require frequent task switching.\n",
        "\n",
        "**Resource Constraints:**\n",
        "In environment when it has a memory usage , multithreading it can be more efficient to share the same memory space, it associated with multiple processes.\n",
        "\n",
        "**Simpler Development:**\n",
        "For application where tasks are interdependent, multithreading can be easy for architecture, as it can easily share their data and communicate without the complex of IPC mechanisms."
      ],
      "metadata": {
        "id": "j9EnRtrXxTj_"
      }
    },
    {
      "cell_type": "markdown",
      "source": [
        "#### Ques 2:- Describe what a process pool is and how it helps in managing multiple processes efficiently.\n",
        "\n",
        "**Answer:-** A process pool is a collection of worker processes that can execute tasks in parallel, helping to manage and distribute workloads across multiple CPU cores. It is part of concurrent programming and is commonly used when you need to perform CPU-bound tasks that benefit from parallelism, such as computations or data processing.\n",
        "\n",
        "Here's how it works and helps manage multiple processes efficiently:\n",
        "\n",
        "**Pool of Workers:** Instead of creating and managing multiple processes manually, a process pool pre-creates a fixed number of worker processes. These processes are then available to handle tasks as they come in, reducing the overhead of creating and destroying processes repeatedly.\n",
        "\n",
        "**Efficient Resource Management:** The pool size can be set based on the number of available CPU cores, ensuring that system resources are optimally used without overloading the machine. It helps balance the load and avoids excessive context switching or process creation costs.\n",
        "\n",
        "**Task Distribution:** When new tasks are submitted, the process pool assigns them to an available worker. If all workers are busy, tasks are queued until a worker becomes available. This allows efficient handling of multiple tasks concurrently.\n",
        "\n",
        "**Parallel Execution:** Since processes in the pool are separate from each other (each having its own memory space), they can run truly in parallel on multi-core systems. This makes process pools ideal for tasks that are heavy on CPU usage.\n",
        "\n",
        "**Simplified Code:** Libraries like Python's multiprocessing.Pool make it easy to use process pools without worrying about the low-level details of process management, allowing developers to focus on the tasks themselves."
      ],
      "metadata": {
        "id": "0sL4QtZFye5s"
      }
    },
    {
      "cell_type": "markdown",
      "source": [
        "#### Ques 3:-  Explain what multiprocessing is and why it is used in Python programs\n",
        "\n",
        "**Answer:-** Multiprocessing is a programming that allows a program to execute multiple processes simultaneously. In Python, it is mainly useful for CPU-bound tasks, it improved by distributing the workload across several processes.\n",
        "\n",
        "**CPU-bound Tasks:**\n",
        "Python's Global Interpreter Lock allows only one thread to execute at a time, Multiprocessing creates separate memory spaces for each process, allows true parallel.\n",
        "\n",
        "**Improved Performance:**\n",
        "Multiprocessing can lead to performance improvements for tasks, such as data processing, scientific simulations, and image processing.\n",
        "\n",
        "**Simplified Code Structure:**\n",
        "The multiprocessing module in Python provides a straightforward to create and manage processes, makes it easier to write concurrent programs compared to using low-level threading libraries.\n",
        "\n",
        "**Task Isolation:**\n",
        "Each process runs induvazally, so when process crash, it does not affect the others."
      ],
      "metadata": {
        "id": "WKfz0Pa_zJPD"
      }
    },
    {
      "cell_type": "code",
      "source": [
        "import multiprocessing\n",
        "import time\n",
        "\n",
        "def worker(num):\n",
        "    print(f'Worker {num} starting')\n",
        "    time.sleep(2)\n",
        "    print(f'Worker {num} finished')\n",
        "\n",
        "if __name__ == '__main__':\n",
        "    processes = []\n",
        "\n",
        "    for i in range(5):\n",
        "        p = multiprocessing.Process(target=worker, args=(i,))\n",
        "        processes.append(p)\n",
        "        p.start()\n",
        "\n",
        "    for p in processes:\n",
        "        p.join()"
      ],
      "metadata": {
        "colab": {
          "base_uri": "https://localhost:8080/"
        },
        "id": "Np0lnwcizshq",
        "outputId": "1389b975-3439-4dc2-cc49-bfb808941934"
      },
      "execution_count": 1,
      "outputs": [
        {
          "output_type": "stream",
          "name": "stdout",
          "text": [
            "Worker 0 starting\n",
            "Worker 1 startingWorker 2 starting\n",
            "\n",
            "Worker 3 starting\n",
            "Worker 4 starting\n",
            "Worker 0 finished\n",
            "Worker 1 finished\n",
            "Worker 2 finished\n",
            "Worker 4 finishedWorker 3 finished\n",
            "\n"
          ]
        }
      ]
    },
    {
      "cell_type": "markdown",
      "source": [
        "#### Ques 4:- Write a Python program using multithreading where one thread adds numbers to a list, and another thread removes numbers from the list. Implement a mechanism to avoid race conditions using threading.Lock"
      ],
      "metadata": {
        "id": "93C7ysXOzaRL"
      }
    },
    {
      "cell_type": "code",
      "source": [
        "import threading\n",
        "import time\n",
        "import random\n",
        "\n",
        "shared_list = []\n",
        "\n",
        "\n",
        "lock = threading.Lock()\n",
        "\n",
        "def add_to_list():\n",
        "    for i in range(10):\n",
        "        time.sleep(random.uniform(0.1, 0.5))\n",
        "        with lock:\n",
        "            number = random.randint(1, 100)\n",
        "            shared_list.append(number)\n",
        "            print(f\"Added {number} to the list. List now: {shared_list}\")\n",
        "\n",
        "def remove_from_list():\n",
        "    for i in range(10):\n",
        "        time.sleep(random.uniform(0.2, 0.6))\n",
        "        with lock:\n",
        "            if shared_list:\n",
        "                removed_number = shared_list.pop(0)\n",
        "                print(f\"Removed {removed_number} from the list. List now: {shared_list}\")\n",
        "            else:\n",
        "                print(\"List is empty, nothing to remove.\")\n",
        "\n",
        "\n",
        "adder_thread = threading.Thread(target=add_to_list)\n",
        "remover_thread = threading.Thread(target=remove_from_list)\n",
        "\n",
        "\n",
        "adder_thread.start()\n",
        "remover_thread.start()\n",
        "\n",
        "\n",
        "adder_thread.join()\n",
        "remover_thread.join()\n",
        "\n",
        "print(\"Final list:\", shared_list)"
      ],
      "metadata": {
        "colab": {
          "base_uri": "https://localhost:8080/"
        },
        "id": "KqcfTID6z_HF",
        "outputId": "14b592c5-17b9-4200-8a42-8af6deb718a1"
      },
      "execution_count": 2,
      "outputs": [
        {
          "output_type": "stream",
          "name": "stdout",
          "text": [
            "Added 43 to the list. List now: [43]\n",
            "Removed 43 from the list. List now: []\n",
            "Added 39 to the list. List now: [39]\n",
            "Removed 39 from the list. List now: []\n",
            "Added 80 to the list. List now: [80]\n",
            "Removed 80 from the list. List now: []\n",
            "Added 12 to the list. List now: [12]\n",
            "Removed 12 from the list. List now: []\n",
            "Added 68 to the list. List now: [68]\n",
            "Added 68 to the list. List now: [68, 68]\n",
            "Added 4 to the list. List now: [68, 68, 4]\n",
            "Removed 68 from the list. List now: [68, 4]\n",
            "Added 54 to the list. List now: [68, 4, 54]\n",
            "Added 56 to the list. List now: [68, 4, 54, 56]\n",
            "Removed 68 from the list. List now: [4, 54, 56]\n",
            "Added 4 to the list. List now: [4, 54, 56, 4]\n",
            "Removed 4 from the list. List now: [54, 56, 4]\n",
            "Removed 54 from the list. List now: [56, 4]\n",
            "Removed 56 from the list. List now: [4]\n",
            "Removed 4 from the list. List now: []\n",
            "Final list: []\n"
          ]
        }
      ]
    },
    {
      "cell_type": "markdown",
      "source": [
        "#### Ques 5:- Describe the methods and tools available in Python for safely sharing data between threads and processes.\n",
        "\n",
        "**Answer:-** **Threading (Multithreading)**\n",
        "\n",
        "Threading Lock (threading.Lock):"
      ],
      "metadata": {
        "id": "RiAyWdJ70f_A"
      }
    },
    {
      "cell_type": "code",
      "source": [
        "#Threading Lock\n",
        "\n",
        "import threading\n",
        "\n",
        "lock = threading.Lock()\n",
        "\n",
        "def thread_safe_function():\n",
        "    with lock:\n",
        "      pass"
      ],
      "metadata": {
        "id": "CcCzX8k30Irs"
      },
      "execution_count": 3,
      "outputs": []
    },
    {
      "cell_type": "markdown",
      "source": [
        "Event (threading.Event):\n",
        "\n",
        "An event can be used for sign between threads. One thread can signal an event at a time."
      ],
      "metadata": {
        "id": "6MUl7CJa1HDB"
      }
    },
    {
      "cell_type": "code",
      "source": [
        "event = threading.Event()\n",
        "event.set()\n",
        "event.wait()"
      ],
      "metadata": {
        "colab": {
          "base_uri": "https://localhost:8080/"
        },
        "id": "ZFxhcy7B1H2h",
        "outputId": "2b712059-b305-4298-fe3b-42927900eea6"
      },
      "execution_count": 4,
      "outputs": [
        {
          "output_type": "execute_result",
          "data": {
            "text/plain": [
              "True"
            ]
          },
          "metadata": {},
          "execution_count": 4
        }
      ]
    },
    {
      "cell_type": "markdown",
      "source": [
        "RLock (Reentrant Lock):\n",
        "\n",
        "A reentrant lock allow a thread to acquire the lock multiple times without blocking itself. It is useful when we start to thread need to enter a critical area which is protected by the same lock."
      ],
      "metadata": {
        "id": "7v5SuG6y1OMY"
      }
    },
    {
      "cell_type": "code",
      "source": [
        "rlock = threading.RLock()"
      ],
      "metadata": {
        "id": "sSNEtSg51KCA"
      },
      "execution_count": 5,
      "outputs": []
    },
    {
      "cell_type": "markdown",
      "source": [
        "Condition Variables:\n",
        "\n",
        "To block one or more threads till the particular condition is met. It useful for scenarios where thread need to wait for a signal from another thread."
      ],
      "metadata": {
        "id": "XAIfuuRK1YiR"
      }
    },
    {
      "cell_type": "code",
      "source": [
        "condition = threading.Condition()\n",
        "\n",
        "with condition:\n",
        "  condition.wait()"
      ],
      "metadata": {
        "id": "gMaAPB3-2T-f"
      },
      "execution_count": null,
      "outputs": []
    },
    {
      "cell_type": "markdown",
      "source": [
        "Semaphore\n",
        "\n",
        "A semaphore allows a fixed number of threads to access a shared resource."
      ],
      "metadata": {
        "id": "t8NEgbNF1kK0"
      }
    },
    {
      "cell_type": "markdown",
      "source": [
        "#### Ques 6:-  Discuss why it’s crucial to handle exceptions in concurrent programs and the techniques available for doing so\n",
        "\n",
        "**Answer:-** Preventing Unhandled Exceptions\n",
        "\n",
        "Maintaining Application Stability\n",
        "\n",
        "Debugging and Logging\n",
        "\n",
        "Resource Management\n",
        "\n",
        "Inter-Thread/Process Communication\n",
        "\n",
        "#### Techniques for Exception Handling in Concurrent Programs\n",
        "\n",
        "Try-Except Blocks:"
      ],
      "metadata": {
        "id": "kLrWoRVd1pwm"
      }
    },
    {
      "cell_type": "code",
      "source": [
        "import threading\n",
        "\n",
        "def thread_function():\n",
        "    try:\n",
        "\n",
        "        result = 20 / 0\n",
        "    except Exception as e:\n",
        "        print(f\"Error in thread: {e}\")\n",
        "\n",
        "thread = threading.Thread(target=thread_function)\n",
        "thread.start()\n",
        "thread.join()"
      ],
      "metadata": {
        "colab": {
          "base_uri": "https://localhost:8080/"
        },
        "id": "1CnOrzrj1Wbh",
        "outputId": "74a2e26d-393e-4499-d21a-16c2e1515528"
      },
      "execution_count": 9,
      "outputs": [
        {
          "output_type": "stream",
          "name": "stdout",
          "text": [
            "Error in thread: division by zero\n"
          ]
        }
      ]
    },
    {
      "cell_type": "markdown",
      "source": [
        "Collecting Exceptions in Thread Pools:"
      ],
      "metadata": {
        "id": "8hNqWsvv2YHE"
      }
    },
    {
      "cell_type": "code",
      "source": [
        "from concurrent.futures import ThreadPoolExecutor\n",
        "\n",
        "def risky_task(x):\n",
        "    if x == 10:\n",
        "        raise ValueError(\"Value cannot be 5!\")\n",
        "    return x\n",
        "\n",
        "with ThreadPoolExecutor(max_workers=2) as executor:\n",
        "    futures = [executor.submit(risky_task, i) for i in range(50)]\n",
        "    for future in futures:\n",
        "        try:\n",
        "            result = future.result()\n",
        "        except Exception as e:\n",
        "            print(f\"Task generated an exception: {e}\")"
      ],
      "metadata": {
        "colab": {
          "base_uri": "https://localhost:8080/"
        },
        "id": "Bgvho7L1151p",
        "outputId": "f9934e89-7676-4f4c-9c79-03a1133edbf1"
      },
      "execution_count": 12,
      "outputs": [
        {
          "output_type": "stream",
          "name": "stdout",
          "text": [
            "Task generated an exception: Value cannot be 5!\n"
          ]
        }
      ]
    },
    {
      "cell_type": "markdown",
      "source": [
        "Error Handling in Multiprocessing:"
      ],
      "metadata": {
        "id": "gIMiZX122ea2"
      }
    },
    {
      "cell_type": "code",
      "source": [
        "from multiprocessing import Process, Queue\n",
        "\n",
        "def worker(queue):\n",
        "    try:\n",
        "        raise ValueError(\"Something went wrong\")\n",
        "    except Exception as e:\n",
        "        queue.put(e)\n",
        "\n",
        "error_queue = Queue()\n",
        "process = Process(target=worker, args=(error_queue,))\n",
        "process.start()\n",
        "process.join()\n",
        "\n",
        "if not error_queue.empty():\n",
        "    error = error_queue.get()\n",
        "    print(f\"Process raised an exception: {error}\")"
      ],
      "metadata": {
        "colab": {
          "base_uri": "https://localhost:8080/"
        },
        "id": "l34uhVJ-2cIX",
        "outputId": "7177fb4c-5909-4627-f216-08ad4cd16fa6"
      },
      "execution_count": 13,
      "outputs": [
        {
          "output_type": "stream",
          "name": "stdout",
          "text": [
            "Process raised an exception: Something went wrong\n"
          ]
        }
      ]
    },
    {
      "cell_type": "markdown",
      "source": [
        "Using Threading Event for Error Reporting:"
      ],
      "metadata": {
        "id": "iYpMJ4y92jsn"
      }
    },
    {
      "cell_type": "code",
      "source": [
        "import threading\n",
        "\n",
        "error_event = threading.Event()\n",
        "\n",
        "def worker():\n",
        "    try:\n",
        "\n",
        "        raise ValueError(\"An error occurred\")\n",
        "    except Exception as e:\n",
        "        print(f\"Worker encountered an error: {e}\")\n",
        "        error_event.set()\n",
        "\n",
        "thread = threading.Thread(target=worker)\n",
        "thread.start()\n",
        "thread.join()\n",
        "\n",
        "if error_event.is_set():\n",
        "    print(\"An error was reported by the worker thread.\")"
      ],
      "metadata": {
        "colab": {
          "base_uri": "https://localhost:8080/"
        },
        "id": "XfLNibmx2hL_",
        "outputId": "69371fda-2d12-45cc-a5c0-4f88ed435051"
      },
      "execution_count": 14,
      "outputs": [
        {
          "output_type": "stream",
          "name": "stdout",
          "text": [
            "Worker encountered an error: An error occurred\n",
            "An error was reported by the worker thread.\n"
          ]
        }
      ]
    },
    {
      "cell_type": "markdown",
      "source": [
        "Using a Global Exception Handler:"
      ],
      "metadata": {
        "id": "dKVmdm6R2oaL"
      }
    },
    {
      "cell_type": "code",
      "source": [
        "import sys\n",
        "import threading\n",
        "\n",
        "def handle_exception(exc_type, exc_value, exc_traceback):\n",
        "    print(f\"Unhandled exception: {exc_value}\")\n",
        "\n",
        "sys.excepthook = handle_exception\n",
        "\n",
        "def worker():\n",
        "    raise RuntimeError(\"This is an unhandled exception\")\n",
        "\n",
        "thread = threading.Thread(target=worker)\n",
        "thread.start()\n",
        "thread.join()"
      ],
      "metadata": {
        "colab": {
          "base_uri": "https://localhost:8080/"
        },
        "id": "ilN1pI9b2mKf",
        "outputId": "35d9b5b1-fef7-4306-c089-d529e192e325"
      },
      "execution_count": 15,
      "outputs": [
        {
          "output_type": "stream",
          "name": "stderr",
          "text": [
            "Exception in thread Thread-14 (worker):\n",
            "Traceback (most recent call last):\n",
            "  File \"/usr/lib/python3.10/threading.py\", line 1016, in _bootstrap_inner\n",
            "    self.run()\n",
            "  File \"/usr/lib/python3.10/threading.py\", line 953, in run\n",
            "    self._target(*self._args, **self._kwargs)\n",
            "  File \"<ipython-input-15-81aee7e0bccd>\", line 10, in worker\n",
            "RuntimeError: This is an unhandled exception\n"
          ]
        }
      ]
    },
    {
      "cell_type": "markdown",
      "source": [
        "#### Ques 7:- Create a program that uses a thread pool to calculate the factorial of numbers from 1 to 10 concurrently. Use concurrent.futures.ThreadPoolExecutor to manage the threads."
      ],
      "metadata": {
        "id": "lm0RNE6T2tO3"
      }
    },
    {
      "cell_type": "code",
      "source": [
        "import concurrent.futures\n",
        "import math\n",
        "\n",
        "def calculate_factorial(n):\n",
        "    return math.factorial(n)\n",
        "\n",
        "def main():\n",
        "    with concurrent.futures.ThreadPoolExecutor() as executor:\n",
        "        numbers = range(1, 11)\n",
        "        futures = {executor.submit(calculate_factorial, num): num for num in numbers}\n",
        "\n",
        "        for future in concurrent.futures.as_completed(futures):\n",
        "            num = futures[future]\n",
        "            try:\n",
        "                result = future.result()\n",
        "                print(f\"The factorial of {num} is {result}\")\n",
        "            except Exception as e:\n",
        "              print(f\"Error calculating factorial of {num}: {e}\")\n",
        "\n",
        "if __name__ == \"__main__\":\n",
        "    main()"
      ],
      "metadata": {
        "colab": {
          "base_uri": "https://localhost:8080/"
        },
        "id": "vXYnr6bN2rHQ",
        "outputId": "bb3fb652-bf33-49fc-cde6-fa7b214275be"
      },
      "execution_count": 16,
      "outputs": [
        {
          "output_type": "stream",
          "name": "stdout",
          "text": [
            "The factorial of 1 is 1\n",
            "The factorial of 10 is 3628800\n",
            "The factorial of 5 is 120\n",
            "The factorial of 8 is 40320\n",
            "The factorial of 4 is 24\n",
            "The factorial of 7 is 5040\n",
            "The factorial of 9 is 362880\n",
            "The factorial of 3 is 6\n",
            "The factorial of 2 is 2\n",
            "The factorial of 6 is 720\n"
          ]
        }
      ]
    },
    {
      "cell_type": "markdown",
      "source": [
        "#### Ques 8:- Create a Python program that uses multiprocessing.Pool to compute the square of numbers from 1 to 10 in parallel. Measure the time taken to perform this computation using a pool of different sizes (e.g., 2, 4, 8 processes)."
      ],
      "metadata": {
        "id": "YRH7pj8e24xU"
      }
    },
    {
      "cell_type": "code",
      "source": [
        "import multiprocessing\n",
        "import time\n",
        "\n",
        "def square(n):\n",
        "    return n * n\n",
        "\n",
        "def compute_squares(pool_size):\n",
        "\n",
        "    with multiprocessing.Pool(processes=pool_size) as pool:\n",
        "        start_time = time.time()\n",
        "\n",
        "        results = pool.map(square, range(1, 11))\n",
        "\n",
        "        end_time = time.time()\n",
        "\n",
        "        print(f\"Pool size: {pool_size}, Results: {results}, Time taken: {end_time - start_time:.4f} seconds\")"
      ],
      "metadata": {
        "id": "N5_l1yHK21rH"
      },
      "execution_count": 17,
      "outputs": []
    },
    {
      "cell_type": "code",
      "source": [
        "def main():\n",
        "    pool_sizes = [2, 4, 8]\n",
        "\n",
        "    for size in pool_sizes:\n",
        "        compute_squares(size)\n",
        "\n",
        "if __name__ == \"__main__\":\n",
        "    main()"
      ],
      "metadata": {
        "colab": {
          "base_uri": "https://localhost:8080/"
        },
        "id": "kts8_e823Dn3",
        "outputId": "9322a2a0-f62a-4400-d06a-179003b1eacf"
      },
      "execution_count": 18,
      "outputs": [
        {
          "output_type": "stream",
          "name": "stdout",
          "text": [
            "Pool size: 2, Results: [1, 4, 9, 16, 25, 36, 49, 64, 81, 100], Time taken: 0.0032 seconds\n",
            "Pool size: 4, Results: [1, 4, 9, 16, 25, 36, 49, 64, 81, 100], Time taken: 0.0025 seconds\n",
            "Pool size: 8, Results: [1, 4, 9, 16, 25, 36, 49, 64, 81, 100], Time taken: 0.0068 seconds\n"
          ]
        }
      ]
    }
  ]
}