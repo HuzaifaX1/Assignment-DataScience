{
  "nbformat": 4,
  "nbformat_minor": 0,
  "metadata": {
    "colab": {
      "provenance": []
    },
    "kernelspec": {
      "name": "python3",
      "display_name": "Python 3"
    },
    "language_info": {
      "name": "python"
    }
  },
  "cells": [
    {
      "cell_type": "markdown",
      "source": [
        "#Practical Question"
      ],
      "metadata": {
        "id": "LPAqr7eqwha6"
      }
    },
    {
      "cell_type": "markdown",
      "source": [
        "####Ques 1:- Create a 3x3 NumPy array with random integers between 1 and 100. Then, interchange its rows and columns."
      ],
      "metadata": {
        "id": "ROE4AJGSwpUr"
      }
    },
    {
      "cell_type": "code",
      "source": [
        "import numpy as np\n",
        "\n",
        "random_array = np.random.randint(1, 101, (3, 3))\n",
        "\n",
        "print(\"Original array:\")\n",
        "print(random_array)\n",
        "\n",
        "interchanged_array = random_array.T\n",
        "\n",
        "print(\"\\nInterchanged array:\")\n",
        "print(interchanged_array)"
      ],
      "metadata": {
        "colab": {
          "base_uri": "https://localhost:8080/"
        },
        "id": "uq4fXrlGwngC",
        "outputId": "85ef5060-9458-4cfb-9f74-7ba84fd8e71d"
      },
      "execution_count": 1,
      "outputs": [
        {
          "output_type": "stream",
          "name": "stdout",
          "text": [
            "Original array:\n",
            "[[74 92 91]\n",
            " [32 15 84]\n",
            " [52 71 86]]\n",
            "\n",
            "Interchanged array:\n",
            "[[74 32 52]\n",
            " [92 15 71]\n",
            " [91 84 86]]\n"
          ]
        }
      ]
    },
    {
      "cell_type": "markdown",
      "source": [
        "####Ques 2:- Generate a 1D NumPy array with 10 elements. Reshape it into a 2x5 array, then into a 5x2 array."
      ],
      "metadata": {
        "id": "WkGigi3V1_bV"
      }
    },
    {
      "cell_type": "code",
      "source": [
        "import numpy as np\n",
        "array = np.arange(10)\n",
        "array_2x5 = array.reshape(2, 5)\n",
        "array_5x2 = array.reshape(5, 2)\n",
        "\n",
        "print(\"Original array:\", array)\n",
        "print(\"\\n2x5 array:\", array_2x5)\n",
        "print(\"\\n5x2 array:\", array_5x2)"
      ],
      "metadata": {
        "colab": {
          "base_uri": "https://localhost:8080/"
        },
        "id": "7Fnj8MNr2VwJ",
        "outputId": "7afa59df-a27d-4ddf-c33c-47e10dbe5a05"
      },
      "execution_count": 2,
      "outputs": [
        {
          "output_type": "stream",
          "name": "stdout",
          "text": [
            "Original array: [0 1 2 3 4 5 6 7 8 9]\n",
            "\n",
            "2x5 array: [[0 1 2 3 4]\n",
            " [5 6 7 8 9]]\n",
            "\n",
            "5x2 array: [[0 1]\n",
            " [2 3]\n",
            " [4 5]\n",
            " [6 7]\n",
            " [8 9]]\n"
          ]
        }
      ]
    },
    {
      "cell_type": "markdown",
      "source": [
        "####Ques 3:- Create a 4x4 Numpy array with random float values. Add a border of zeros around it, resulting in a 6x6 array."
      ],
      "metadata": {
        "id": "KLCfBric2doL"
      }
    },
    {
      "cell_type": "code",
      "source": [
        "import numpy as np\n",
        "\n",
        "array = np.random.rand(4, 4)\n",
        "\n",
        "padded_array = np.pad(array, ((1, 1), (1, 1)), mode='constant', constant_values=0)\n",
        "\n",
        "print(\"Original array:\\n\", array)\n",
        "print(\"\\nPadded array:\\n\", padded_array)"
      ],
      "metadata": {
        "colab": {
          "base_uri": "https://localhost:8080/"
        },
        "id": "o7wmKLyw2a0Z",
        "outputId": "29138633-31f3-40c6-fc6e-45b4ea789e5d"
      },
      "execution_count": 3,
      "outputs": [
        {
          "output_type": "stream",
          "name": "stdout",
          "text": [
            "Original array:\n",
            " [[0.64369914 0.26480521 0.0505871  0.87152455]\n",
            " [0.56162914 0.95760812 0.08106786 0.76313824]\n",
            " [0.10359381 0.41884147 0.33119922 0.85491967]\n",
            " [0.87443665 0.31670078 0.82438737 0.82005294]]\n",
            "\n",
            "Padded array:\n",
            " [[0.         0.         0.         0.         0.         0.        ]\n",
            " [0.         0.64369914 0.26480521 0.0505871  0.87152455 0.        ]\n",
            " [0.         0.56162914 0.95760812 0.08106786 0.76313824 0.        ]\n",
            " [0.         0.10359381 0.41884147 0.33119922 0.85491967 0.        ]\n",
            " [0.         0.87443665 0.31670078 0.82438737 0.82005294 0.        ]\n",
            " [0.         0.         0.         0.         0.         0.        ]]\n"
          ]
        }
      ]
    },
    {
      "cell_type": "markdown",
      "source": [
        "####Ques 4:- Using NumPy, crate an array of integers from 10 to 60 with a step of 5"
      ],
      "metadata": {
        "id": "7YIqQTtx2710"
      }
    },
    {
      "cell_type": "code",
      "source": [
        "array = np.arange(10, 61, 5)\n",
        "print(array)"
      ],
      "metadata": {
        "colab": {
          "base_uri": "https://localhost:8080/"
        },
        "id": "20MM61hs2zBW",
        "outputId": "b7808192-bbb6-4d24-ed00-981301aed492"
      },
      "execution_count": 4,
      "outputs": [
        {
          "output_type": "stream",
          "name": "stdout",
          "text": [
            "[10 15 20 25 30 35 40 45 50 55 60]\n"
          ]
        }
      ]
    },
    {
      "cell_type": "markdown",
      "source": [
        "#### Ques 5:- Create a NumPy array of string ['python, 'numpy', 'pandas']. Apply different case transformations (uppercase, lowercase, title case, etc). to each element."
      ],
      "metadata": {
        "id": "YkwEwJDhEp0k"
      }
    },
    {
      "cell_type": "code",
      "source": [
        "import numpy as np\n",
        "\n",
        "strings = np.array(['python', 'numpy', 'pandas'])\n",
        "uppercase = np.char.upper(strings)\n",
        "lowercase = np.char.lower(strings)\n",
        "title_case = np.char.title(strings)\n",
        "\n",
        "print(\"Original array:\", strings)\n",
        "print(\"\\nUppercase:\", uppercase)\n",
        "print(\"\\nLowercase:\", lowercase)\n",
        "print(\"\\nTitle case:\", title_case)"
      ],
      "metadata": {
        "colab": {
          "base_uri": "https://localhost:8080/"
        },
        "id": "KOWdXBk-9ZRG",
        "outputId": "8f332ed7-fab7-461d-8fe3-64ee3a72522a"
      },
      "execution_count": 8,
      "outputs": [
        {
          "output_type": "stream",
          "name": "stdout",
          "text": [
            "Original array: ['python' 'numpy' 'pandas']\n",
            "\n",
            "Uppercase: ['PYTHON' 'NUMPY' 'PANDAS']\n",
            "\n",
            "Lowercase: ['python' 'numpy' 'pandas']\n",
            "\n",
            "Title case: ['Python' 'Numpy' 'Pandas']\n"
          ]
        }
      ]
    },
    {
      "cell_type": "markdown",
      "source": [
        "####Ques 6:- Generate a Numpy array of words. Insert a space between each character of every word in the array."
      ],
      "metadata": {
        "id": "gYKYTG6QHaBV"
      }
    },
    {
      "cell_type": "code",
      "source": [
        "import numpy as np\n",
        "\n",
        "\n",
        "words = np.array([\"hello\", \"world\", \"numpy\"])\n",
        "\n",
        "spaced_words = np.char.join(\" \", words)\n",
        "\n",
        "print(spaced_words)"
      ],
      "metadata": {
        "colab": {
          "base_uri": "https://localhost:8080/"
        },
        "id": "diFYSq-7GEGK",
        "outputId": "87f3d4dd-f1a4-4440-8ebc-d0d130f0a875"
      },
      "execution_count": 9,
      "outputs": [
        {
          "output_type": "stream",
          "name": "stdout",
          "text": [
            "['h e l l o' 'w o r l d' 'n u m p y']\n"
          ]
        }
      ]
    },
    {
      "cell_type": "markdown",
      "source": [
        "####Ques 7:- Create two 2D Numpy arraysand perform element-wise addition, substraction, multiplication, and division."
      ],
      "metadata": {
        "id": "lRybEt3AiF_v"
      }
    },
    {
      "cell_type": "code",
      "source": [
        "import numpy as np\n",
        "\n",
        "# Create two 2D Numpy arrays\n",
        "array1 = np.array([[1, 2], [3, 4]])\n",
        "array2 = np.array([[5, 6], [7, 8]])\n",
        "\n",
        "# Perform element-wise addition\n",
        "addition = array1 + array2\n",
        "\n",
        "# Perform element-wise subtraction\n",
        "subtraction = array1 - array2\n",
        "\n",
        "# Perform element-wise multiplication\n",
        "multiplication = array1 * array2\n",
        "\n",
        "# Perform element-wise division\n",
        "division = array1 / array2\n",
        "\n",
        "print(\"Array 1:\\n\", array1)\n",
        "print(\"Array 2:\\n\", array2)\n",
        "\n",
        "print(\"\\nAddition:\\n\", addition)\n",
        "print(\"\\nSubtraction:\\n\", subtraction)\n",
        "print(\"\\nMultiplication:\\n\", multiplication)\n",
        "print(\"\\nDivision:\\n\", division)"
      ],
      "metadata": {
        "colab": {
          "base_uri": "https://localhost:8080/"
        },
        "id": "72tWjthpH5ex",
        "outputId": "403ec188-4cba-40dd-d131-a75a826dfd27"
      },
      "execution_count": 2,
      "outputs": [
        {
          "output_type": "stream",
          "name": "stdout",
          "text": [
            "Array 1:\n",
            " [[1 2]\n",
            " [3 4]]\n",
            "Array 2:\n",
            " [[5 6]\n",
            " [7 8]]\n",
            "\n",
            "Addition:\n",
            " [[ 6  8]\n",
            " [10 12]]\n",
            "\n",
            "Subtraction:\n",
            " [[-4 -4]\n",
            " [-4 -4]]\n",
            "\n",
            "Multiplication:\n",
            " [[ 5 12]\n",
            " [21 32]]\n",
            "\n",
            "Division:\n",
            " [[0.2        0.33333333]\n",
            " [0.42857143 0.5       ]]\n"
          ]
        }
      ]
    },
    {
      "cell_type": "markdown",
      "source": [
        "####Ques 8:- Use Numpy to create a 5x5 identity matrix, then extract its diagonal elements."
      ],
      "metadata": {
        "id": "txbQF2b8jZwy"
      }
    },
    {
      "cell_type": "code",
      "source": [
        "import numpy as np\n",
        "\n",
        "identity_matrix = np.eye(5)\n",
        "\n",
        "diagonal_elements = np.diag(identity_matrix)\n",
        "\n",
        "print(\"Identity matrix:\\n\", identity_matrix)\n",
        "print(\"\\nDiagonal elements:\", diagonal_elements)"
      ],
      "metadata": {
        "colab": {
          "base_uri": "https://localhost:8080/"
        },
        "id": "FE7DHosxitUq",
        "outputId": "600e4d0d-4035-464c-f97e-ddabe77318ad"
      },
      "execution_count": 3,
      "outputs": [
        {
          "output_type": "stream",
          "name": "stdout",
          "text": [
            "Identity matrix:\n",
            " [[1. 0. 0. 0. 0.]\n",
            " [0. 1. 0. 0. 0.]\n",
            " [0. 0. 1. 0. 0.]\n",
            " [0. 0. 0. 1. 0.]\n",
            " [0. 0. 0. 0. 1.]]\n",
            "\n",
            "Diagonal elements: [1. 1. 1. 1. 1.]\n"
          ]
        }
      ]
    },
    {
      "cell_type": "markdown",
      "source": [
        "####Ques 9:- Generate a Numpy array of 100 random integers between 0 and 1000, Find and display all prime numbers in this array."
      ],
      "metadata": {
        "id": "5aapoEu5j3Hh"
      }
    },
    {
      "cell_type": "code",
      "source": [
        "import numpy as np\n",
        "\n",
        "def is_prime(num):\n",
        "\n",
        "  if num <= 1:\n",
        "    return False\n",
        "  if num <= 3:\n",
        "    return True\n",
        "  if num % 2 == 0 or num % 3 == 0:\n",
        "    return False\n",
        "  i = 5\n",
        "  while i * i <= num:\n",
        "    if num % i == 0 or num % (i + 2) == 0:\n",
        "      return False\n",
        "    i += 6\n",
        "  return True\n",
        "\n",
        "random_numbers = np.random.randint(0, 1001, 100)\n",
        "\n",
        "prime_numbers = [num for num in random_numbers if is_prime(num)]\n",
        "\n",
        "print(\"Random numbers:\", random_numbers)\n",
        "print(\"\\nPrime numbers:\", prime_numbers)"
      ],
      "metadata": {
        "colab": {
          "base_uri": "https://localhost:8080/"
        },
        "id": "sTDUWioYj2Aq",
        "outputId": "38ccd6fc-1014-49b8-9cb2-bbce9048288d"
      },
      "execution_count": 4,
      "outputs": [
        {
          "output_type": "stream",
          "name": "stdout",
          "text": [
            "Random numbers: [  5  60 108  46 215 606 801 839 789  51 355 894  15 808 249 324 126  99\n",
            " 252  98 222 101 171  77 130 439 335 857 494 710 284 168 872 193 848 849\n",
            " 160 842 398 934  59 674 339 791 546 766 393 659 937  22 826 788 516 207\n",
            " 537 188 773 198  85 338 985 241 733 805 200  21 906 459 111 466 874 898\n",
            "   7 828  78 812 768 655 470 781 901  30 378 938 971 884 330 369 762 836\n",
            " 746 254  54 918 354 132  78 848 538 335]\n",
            "\n",
            "Prime numbers: [5, 839, 101, 439, 857, 193, 59, 659, 937, 773, 241, 733, 7, 971]\n"
          ]
        }
      ]
    },
    {
      "cell_type": "markdown",
      "source": [
        "####Ques 10:- Create a Numpy array representing daily temperatures for a month. Calculate and display the weekly average."
      ],
      "metadata": {
        "id": "bU8dCPQgkR72"
      }
    },
    {
      "cell_type": "code",
      "source": [
        "import numpy as np\n",
        "\n",
        "daily_temperatures = np.random.randint(60, 90, 30)\n",
        "\n",
        "weekly_average = np.mean(daily_temperatures.reshape(5, 6), axis=1)\n",
        "\n",
        "print(\"Daily temperatures:\", daily_temperatures)\n",
        "print(\"\\nWeekly average:\", weekly_average)"
      ],
      "metadata": {
        "colab": {
          "base_uri": "https://localhost:8080/"
        },
        "id": "2AQNCQ3ekldw",
        "outputId": "ffb79d32-f737-4740-b04c-fd4ea1eb3ef4"
      },
      "execution_count": 5,
      "outputs": [
        {
          "output_type": "stream",
          "name": "stdout",
          "text": [
            "Daily temperatures: [67 79 89 71 60 85 64 76 87 66 62 69 77 73 85 61 79 78 73 71 87 80 74 73\n",
            " 74 88 80 75 71 87]\n",
            "\n",
            "Weekly average: [75.16666667 70.66666667 75.5        76.33333333 79.16666667]\n"
          ]
        }
      ]
    }
  ]
}